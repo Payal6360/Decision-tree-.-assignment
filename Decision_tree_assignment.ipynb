{
  "nbformat": 4,
  "nbformat_minor": 0,
  "metadata": {
    "colab": {
      "provenance": []
    },
    "kernelspec": {
      "name": "python3",
      "display_name": "Python 3"
    },
    "language_info": {
      "name": "python"
    }
  },
  "cells": [
    {
      "cell_type": "code",
      "execution_count": null,
      "metadata": {
        "id": "Vy1wheme67rt"
      },
      "outputs": [],
      "source": []
    },
    {
      "cell_type": "markdown",
      "source": [
        "#theory question"
      ],
      "metadata": {
        "id": "6PApR39s7km4"
      }
    },
    {
      "cell_type": "code",
      "source": [],
      "metadata": {
        "id": "iZV-kk437qKi"
      },
      "execution_count": null,
      "outputs": []
    },
    {
      "cell_type": "markdown",
      "source": [
        "1:- What is a Decision Tree, and how does it work\t?\n",
        "\n",
        "A Decision Tree is a supervised learning algorithm used for classification and regression. It splits the data into branches based on feature values, creating nodes for decisions. At each node, it selects the best feature using impurity measures, continuing until leaf nodes give predictions."
      ],
      "metadata": {
        "id": "oRAIBKWi7rmC"
      }
    },
    {
      "cell_type": "markdown",
      "source": [
        "2:- What are impurity measures in Decision Trees\t?\n",
        "\n",
        "Impurity measures evaluate how mixed the classes are at a node. Common measures include Gini Impurity and Entropy. Lower impurity means purer nodes (mostly one class). These measures help decide the best feature to split on."
      ],
      "metadata": {
        "id": "v_ufjkgN7yYl"
      }
    },
    {
      "cell_type": "markdown",
      "source": [
        "3:- What is the mathematical formula for Gini Impurity?\n",
        "\n",
        "Gini(t)=1−\n",
        "i=1\n",
        "∑\n",
        "C\n",
        "​\n",
        " p\n",
        "i\n",
        "2\n",
        "​\n",
        "\n",
        "Where\n",
        "𝑝\n",
        "𝑖\n",
        "p\n",
        "i\n",
        "​\n",
        "  is the proportion of class\n",
        "𝑖\n",
        "i at node\n",
        "𝑡\n",
        "t, and\n",
        "𝐶\n",
        "C is the total number of classes.\n",
        "\n",
        "4. What is the mathematical formula for Entropy?\n",
        "\n",
        "Entropy\n",
        "(\n",
        "𝑡\n",
        ")\n",
        "=\n",
        "−\n",
        "∑\n",
        "𝑖\n",
        "=\n",
        "1\n",
        "𝐶\n",
        "𝑝\n",
        "𝑖\n",
        "log\n",
        "⁡\n",
        "2\n",
        "(\n",
        "𝑝\n",
        "𝑖\n",
        ")\n",
        "Entropy(t)=−\n",
        "i=1\n",
        "∑\n",
        "C\n",
        "​\n",
        " p\n",
        "i\n",
        "​\n",
        " log\n",
        "2\n",
        "​\n",
        " (p\n",
        "i\n",
        "​\n",
        " )\n",
        "Where\n",
        "𝑝\n",
        "𝑖\n",
        "p\n",
        "i\n",
        "​\n",
        "  is the probability of class\n",
        "𝑖\n",
        "i at node\n",
        "𝑡\n",
        "t."
      ],
      "metadata": {
        "id": "jJMNu9Sy78WW"
      }
    },
    {
      "cell_type": "markdown",
      "source": [
        "4:- What is the mathematical formula for Entropy\t?\n",
        "\n",
        "\n",
        "Entropy(t)=−\n",
        "i=1\n",
        "∑\n",
        "C\n",
        "​\n",
        " p\n",
        "i\n",
        "​\n",
        " log\n",
        "2\n",
        "​\n",
        " (p\n",
        "i\n",
        "​\n",
        " )\n",
        "Where\n",
        "𝑝\n",
        "𝑖\n",
        "p\n",
        "i\n",
        "​\n",
        "  is the probability of class\n",
        "𝑖\n",
        "i at node\n",
        "𝑡\n",
        "t."
      ],
      "metadata": {
        "id": "3YqNzkGF8Jcb"
      }
    },
    {
      "cell_type": "markdown",
      "source": [
        "5:- What is Information Gain, and how is it used in Decision Trees\t?\n",
        "\n",
        "Information Gain measures the reduction in impurity after a dataset is split on a feature. It is calculated as the impurity of the parent node minus the weighted impurity of child nodes. Decision Trees use Information Gain to select the best feature for splitting at each step."
      ],
      "metadata": {
        "id": "NUYjrjFr8cRb"
      }
    },
    {
      "cell_type": "markdown",
      "source": [
        "6:- What is the difference between Gini Impurity and Entropy?\n",
        "\n",
        "Gini measures the probability of misclassifying a randomly chosen element; Entropy measures data disorder. Both assess node purity in Decision Trees"
      ],
      "metadata": {
        "id": "YIxYz-UT8mPx"
      }
    },
    {
      "cell_type": "markdown",
      "source": [
        "7:- what is the mathematical explanation behind Decision Trees?\n",
        "\n",
        "Decision Trees split data by maximizing Information Gain using impurity metrics like Gini or Entropy."
      ],
      "metadata": {
        "id": "4vv7efdc82WN"
      }
    },
    {
      "cell_type": "markdown",
      "source": [
        "8:-What is Pre-Pruning in Decision Trees\t?\n",
        "Pre-pruning (also called early stopping) is a technique used to prevent a decision tree from growing too deep and overfitting the training data.\n",
        "\n",
        "🔍 How it works:\n",
        "During tree construction, splitting stops early if a specified condition is met, such as:\n",
        "\n",
        "Maximum tree depth reached (max_depth)\n",
        "\n",
        "Minimum number of samples in a node (min_samples_split)\n",
        "\n",
        "Minimum impurity decrease\n",
        "\n",
        "No significant gain from further splits\n",
        "\n",
        "✅ Benefits:\n",
        "Reduces overfitting\n",
        "\n",
        "Faster training\n",
        "\n",
        "Simpler, more interpretable trees\n"
      ],
      "metadata": {
        "id": "tlU804qf8_sg"
      }
    },
    {
      "cell_type": "markdown",
      "source": [
        "9:- What is Post-Pruning in Decision Trees?\n",
        "\n",
        "Post-pruning is a technique where the decision tree is first grown fully, and then unnecessary branches (nodes) are removed to reduce complexity and improve generalization.\n",
        "\n",
        "🧠 How it Works:\n",
        "Grow the full decision tree.\n",
        "\n",
        "Use a validation set or cost-complexity pruning to evaluate performance.\n",
        "\n",
        "Prune branches that do not improve accuracy or reduce error.\n",
        "\n",
        "📉 Goal:\n",
        "Prevent overfitting by simplifying the model after it has learned from the training data.\n",
        "\n",
        "Retain only those splits that contribute meaningfully to performance.\n",
        "\n",
        "✅ Advantages:\n",
        "More accurate on unseen data.\n",
        "\n",
        "Reduces model complexity after full learning."
      ],
      "metadata": {
        "id": "HQeQ9idq9GJH"
      }
    },
    {
      "cell_type": "markdown",
      "source": [
        "10:- What is the difference between Pre-Pruning and Post-Pruning?\n",
        "\n",
        "Pre-pruning stops tree growth early based on constraints (like max depth), preventing overfitting from the start. Post-pruning allows full tree growth, then trims back branches using validation to improve generalization. Pre-pruning is proactive, while post-pruning is reactive, both aiming to improve model performance and avoid overfitting."
      ],
      "metadata": {
        "id": "-TBhopoc9OXX"
      }
    },
    {
      "cell_type": "markdown",
      "source": [
        "11:-What is a Decision Tree Regressor?\n",
        "\n",
        "A Decision Tree Regressor predicts continuous values by splitting data into regions and assigning average target values. It builds a tree where internal nodes represent decision rules and leaf nodes hold numeric predictions. It minimizes variance within leaf nodes to provide accurate regression outputs."
      ],
      "metadata": {
        "id": "n8XYGgW89Uf7"
      }
    },
    {
      "cell_type": "markdown",
      "source": [
        "12:-What are the advantages and disadvantages of Decision Trees\t?\n",
        "\n",
        "Advantages: Easy to understand, interpret, and visualize; handles both numerical and categorical data; no need for scaling.\n",
        "Disadvantages: Prone to overfitting, sensitive to small data changes, may create biased trees if classes are imbalanced."
      ],
      "metadata": {
        "id": "nEZ3P_cR9axl"
      }
    },
    {
      "cell_type": "markdown",
      "source": [
        "13:-How does a Decision Tree handle missing values?\n",
        "\n",
        "Decision Trees can handle missing values by using surrogate splits (alternative features), ignoring missing data during splits, or assigning data points probabilistically to branches. Some implementations (like in sklearn) require imputation before training if missing values exist."
      ],
      "metadata": {
        "id": "ilNbSGAD9i8B"
      }
    },
    {
      "cell_type": "markdown",
      "source": [
        "14:- How does a Decision Tree handle categorical features\t?\n",
        "\n",
        "Categorical features are handled by splitting based on category values. For example, a node may split data like “Color = Red vs. not Red.” Some algorithms encode categories as binary or use one-hot encoding. Tree algorithms like CART typically require numeric input, so preprocessing is needed."
      ],
      "metadata": {
        "id": "zwB-45vE9oiC"
      }
    },
    {
      "cell_type": "markdown",
      "source": [
        "15:-What are some real-world applications of Decision Trees?\n",
        "\n",
        "Decision Trees are used in healthcare for diagnosis, in finance for credit scoring and fraud detection, in marketing for customer segmentation, in retail for sales prediction, and in agriculture for crop disease prediction. They’re also useful in any field needing interpretable, rule-based decision models."
      ],
      "metadata": {
        "id": "OZWsWJOR9t_f"
      }
    },
    {
      "cell_type": "markdown",
      "source": [
        "#practical question"
      ],
      "metadata": {
        "id": "2hzet0nA90Ij"
      }
    },
    {
      "cell_type": "markdown",
      "source": [
        "16:- Write a Python program to train a Decision Tree Classifier on the Iris dataset and print the model accuracy."
      ],
      "metadata": {
        "id": "ghRBn1VvAqPw"
      }
    },
    {
      "cell_type": "code",
      "source": [
        "from sklearn.datasets import load_iris\n",
        "from sklearn.model_selection import train_test_split\n",
        "from sklearn.tree import DecisionTreeClassifier\n",
        "from sklearn.metrics import accuracy_score\n",
        "\n",
        "# Load data\n",
        "iris = load_iris()\n",
        "X, y = iris.data, iris.target\n",
        "\n",
        "# Split data\n",
        "X_train, X_test, y_train, y_test = train_test_split(X, y, test_size=0.3, random_state=42)\n",
        "\n",
        "# Train model\n",
        "clf = DecisionTreeClassifier(random_state=42)\n",
        "clf.fit(X_train, y_train)\n",
        "\n",
        "# Predict and evaluate\n",
        "y_pred = clf.predict(X_test)\n",
        "print(\"Model Accuracy:\", accuracy_score(y_test, y_pred))"
      ],
      "metadata": {
        "colab": {
          "base_uri": "https://localhost:8080/"
        },
        "id": "hMXtL8lGBCx8",
        "outputId": "bf8a36b0-987e-47bb-f28f-9b71042da570"
      },
      "execution_count": 1,
      "outputs": [
        {
          "output_type": "stream",
          "name": "stdout",
          "text": [
            "Model Accuracy: 1.0\n"
          ]
        }
      ]
    },
    {
      "cell_type": "code",
      "source": [],
      "metadata": {
        "id": "kBOqneK7942v"
      },
      "execution_count": null,
      "outputs": []
    },
    {
      "cell_type": "markdown",
      "source": [
        "17:-,* Write a Python program to train a Decision Tree Classifier using Gini Impurity as the criterion and print the feature importances.\n"
      ],
      "metadata": {
        "id": "JktazanPBHjy"
      }
    },
    {
      "cell_type": "code",
      "source": [
        "from sklearn.tree import DecisionTreeClassifier\n",
        "from sklearn.datasets import load_iris\n",
        "\n",
        "# Load data\n",
        "iris = load_iris()\n",
        "X, y = iris.data, iris.target\n",
        "\n",
        "# Train with Gini\n",
        "clf = DecisionTreeClassifier(criterion='gini', random_state=42)\n",
        "clf.fit(X, y)\n",
        "\n",
        "# Print feature importances\n",
        "for name, importance in zip(iris.feature_names, clf.feature_importances_):\n",
        "    print(f\"{name}: {importance:.4f}\")"
      ],
      "metadata": {
        "colab": {
          "base_uri": "https://localhost:8080/"
        },
        "id": "mI_Wd_xYBmA4",
        "outputId": "4651e82d-137f-46bb-f2d3-0e6cc9f07881"
      },
      "execution_count": 3,
      "outputs": [
        {
          "output_type": "stream",
          "name": "stdout",
          "text": [
            "sepal length (cm): 0.0133\n",
            "sepal width (cm): 0.0000\n",
            "petal length (cm): 0.5641\n",
            "petal width (cm): 0.4226\n"
          ]
        }
      ]
    },
    {
      "cell_type": "markdown",
      "source": [
        "18:- Write a Python program to train a Decision Tree Classifier using Entropy as the splitting criterion and print the model accuracy.\n"
      ],
      "metadata": {
        "id": "8qEck0OdBo9d"
      }
    },
    {
      "cell_type": "code",
      "source": [
        "from sklearn.datasets import load_iris\n",
        "from sklearn.model_selection import train_test_split\n",
        "from sklearn.tree import DecisionTreeClassifier\n",
        "from sklearn.metrics import accuracy_score\n",
        "\n",
        "# Load data\n",
        "iris = load_iris()\n",
        "X, y = iris.data, iris.target\n",
        "\n",
        "# Split data\n",
        "X_train, X_test, y_train, y_test = train_test_split(X, y, test_size=0.3, random_state=42)\n",
        "\n",
        "# Train with Entropy\n",
        "clf = DecisionTreeClassifier(criterion='entropy', random_state=42)\n",
        "clf.fit(X_train, y_train)\n",
        "\n",
        "# Predict and evaluate\n",
        "y_pred = clf.predict(X_test)\n",
        "print(\"Model Accuracy (Entropy):\", accuracy_score(y_test, y_pred))\n"
      ],
      "metadata": {
        "colab": {
          "base_uri": "https://localhost:8080/"
        },
        "id": "hyQAwIYHB2XR",
        "outputId": "6c05f371-fb64-4587-a1af-4580b383a042"
      },
      "execution_count": 4,
      "outputs": [
        {
          "output_type": "stream",
          "name": "stdout",
          "text": [
            "Model Accuracy (Entropy): 0.9777777777777777\n"
          ]
        }
      ]
    },
    {
      "cell_type": "code",
      "source": [],
      "metadata": {
        "id": "JlR9-_DiC5tn"
      },
      "execution_count": null,
      "outputs": []
    },
    {
      "cell_type": "markdown",
      "source": [
        "19:- Write a Python program to train a Decision Tree Regressor on a housing dataset and evaluate using Mean\n",
        "Squared Error (MSE)."
      ],
      "metadata": {
        "id": "w_4v5sppDMrk"
      }
    },
    {
      "cell_type": "code",
      "source": [
        "from sklearn.datasets import fetch_california_housing\n",
        "from sklearn.tree import DecisionTreeRegressor\n",
        "from sklearn.model_selection import train_test_split\n",
        "from sklearn.metrics import mean_squared_error\n",
        "\n",
        "# Load data\n",
        "housing = fetch_california_housing()\n",
        "X, y = housing.data, housing.target\n",
        "\n",
        "# Train-test split\n",
        "X_train, X_test, y_train, y_test = train_test_split(X, y, test_size=0.2, random_state=42)\n",
        "\n",
        "# Train regressor\n",
        "reg = DecisionTreeRegressor(random_state=42)\n",
        "reg.fit(X_train, y_train)\n",
        "\n",
        "# Predict and evaluate\n",
        "y_pred = reg.predict(X_test)\n",
        "mse = mean_squared_error(y_test, y_pred)\n",
        "print(\"Mean Squared Error (MSE):\", mse)"
      ],
      "metadata": {
        "colab": {
          "base_uri": "https://localhost:8080/"
        },
        "id": "4T7EcRdnDRac",
        "outputId": "f19a789d-ec25-4aef-e18d-f3eaff120208"
      },
      "execution_count": 5,
      "outputs": [
        {
          "output_type": "stream",
          "name": "stdout",
          "text": [
            "Mean Squared Error (MSE): 0.495235205629094\n"
          ]
        }
      ]
    },
    {
      "cell_type": "markdown",
      "source": [
        "20:-Write a Python program to train a Decision Tree Classifier and visualize the tree using graphviz.\n"
      ],
      "metadata": {
        "id": "YTjhG2k2Dgle"
      }
    },
    {
      "cell_type": "code",
      "source": [
        "from sklearn.datasets import fetch_california_housing\n",
        "from sklearn.tree import DecisionTreeRegressor\n",
        "from sklearn.model_selection import train_test_split\n",
        "from sklearn.metrics import mean_squared_error\n",
        "\n",
        "# Load data\n",
        "housing = fetch_california_housing()\n",
        "X, y = housing.data, housing.target\n",
        "\n",
        "# Train-test split\n",
        "X_train, X_test, y_train, y_test = train_test_split(X, y, test_size=0.2, random_state=42)\n",
        "\n",
        "# Train regressor\n",
        "reg = DecisionTreeRegressor(random_state=42)\n",
        "reg.fit(X_train, y_train)\n",
        "\n",
        "# Predict and evaluate\n",
        "y_pred = reg.predict(X_test)\n",
        "mse = mean_squared_error(y_test, y_pred)\n",
        "print(\"Mean Squared Error (MSE):\", mse)"
      ],
      "metadata": {
        "colab": {
          "base_uri": "https://localhost:8080/"
        },
        "id": "fGNTwvR5D0EQ",
        "outputId": "2d2344fe-013e-44db-a441-42e2465b1994"
      },
      "execution_count": 6,
      "outputs": [
        {
          "output_type": "stream",
          "name": "stdout",
          "text": [
            "Mean Squared Error (MSE): 0.495235205629094\n"
          ]
        }
      ]
    },
    {
      "cell_type": "markdown",
      "source": [
        "21:- Write a Python program to train a Decision Tree Classifier with a maximum depth of 3 and compare itsaccuracy with a fully grown tree."
      ],
      "metadata": {
        "id": "bxMyTej5D7TW"
      }
    },
    {
      "cell_type": "code",
      "source": [
        "from sklearn.datasets import load_iris\n",
        "from sklearn.tree import DecisionTreeClassifier, export_graphviz\n",
        "import graphviz\n",
        "\n",
        "# Load data\n",
        "iris = load_iris()\n",
        "X, y = iris.data, iris.target\n",
        "\n",
        "# Train model\n",
        "clf = DecisionTreeClassifier(random_state=42)\n",
        "clf.fit(X, y)\n",
        "\n",
        "# Export and visualize\n",
        "dot_data = export_graphviz(clf, out_file=None,\n",
        "                           feature_names=iris.feature_names,\n",
        "                           class_names=iris.target_names,\n",
        "                           filled=True, rounded=True,\n",
        "                           special_characters=True)\n",
        "graph = graphviz.Source(dot_data)\n",
        "graph.render(\"iris_tree\", format='png', cleanup=True)  # Saves as 'iris_tree.png'\n",
        "graph.view()  # Opens the file (optional)"
      ],
      "metadata": {
        "colab": {
          "base_uri": "https://localhost:8080/",
          "height": 36
        },
        "id": "J8wMWpQWEGHn",
        "outputId": "bc4bb5af-e475-48b9-957e-3695244a29bc"
      },
      "execution_count": 7,
      "outputs": [
        {
          "output_type": "execute_result",
          "data": {
            "text/plain": [
              "'iris_tree.pdf'"
            ],
            "application/vnd.google.colaboratory.intrinsic+json": {
              "type": "string"
            }
          },
          "metadata": {},
          "execution_count": 7
        }
      ]
    },
    {
      "cell_type": "code",
      "source": [],
      "metadata": {
        "id": "zoMFCGRgELFj"
      },
      "execution_count": null,
      "outputs": []
    },
    {
      "cell_type": "markdown",
      "source": [
        "22:- '* Write a Python program to train a Decision Tree Classifier using min_samples_split=5 and compare itsaccuracy with a default tree."
      ],
      "metadata": {
        "id": "3ZVOh7f4EMbY"
      }
    },
    {
      "cell_type": "code",
      "source": [
        "from sklearn.datasets import load_iris\n",
        "from sklearn.model_selection import train_test_split\n",
        "from sklearn.tree import DecisionTreeClassifier\n",
        "from sklearn.metrics import accuracy_score\n",
        "\n",
        "# Load and split data\n",
        "iris = load_iris()\n",
        "X_train, X_test, y_train, y_test = train_test_split(iris.data, iris.target, test_size=0.3, random_state=42)\n",
        "\n",
        "# Full tree\n",
        "full_tree = DecisionTreeClassifier(random_state=42)\n",
        "full_tree.fit(X_train, y_train)\n",
        "acc_full = accuracy_score(y_test, full_tree.predict(X_test))\n",
        "\n",
        "# Limited depth tree\n",
        "depth_tree = DecisionTreeClassifier(max_depth=3, random_state=42)\n",
        "depth_tree.fit(X_train, y_train)\n",
        "acc_depth = accuracy_score(y_test, depth_tree.predict(X_test))\n",
        "\n",
        "# Print results\n",
        "print(\"Accuracy (Full Tree):\", acc_full)\n",
        "print(\"Accuracy (Max Depth = 3):\", acc_depth)"
      ],
      "metadata": {
        "colab": {
          "base_uri": "https://localhost:8080/"
        },
        "id": "Gz8PlaRrEVtt",
        "outputId": "698dc687-b0d0-44ae-ac16-12880e61f04a"
      },
      "execution_count": 8,
      "outputs": [
        {
          "output_type": "stream",
          "name": "stdout",
          "text": [
            "Accuracy (Full Tree): 1.0\n",
            "Accuracy (Max Depth = 3): 1.0\n"
          ]
        }
      ]
    },
    {
      "cell_type": "code",
      "source": [],
      "metadata": {
        "id": "DEbj_4R0EqVl"
      },
      "execution_count": null,
      "outputs": []
    },
    {
      "cell_type": "markdown",
      "source": [
        "23:- * Write a Python program to apply feature scaling before training a Decision Tree Classifier and compare itsaccuracy with unscaled data."
      ],
      "metadata": {
        "id": "7cUz1ejFErcj"
      }
    },
    {
      "cell_type": "code",
      "source": [
        "from sklearn.datasets import load_iris\n",
        "from sklearn.model_selection import train_test_split\n",
        "from sklearn.tree import DecisionTreeClassifier\n",
        "from sklearn.metrics import accuracy_score\n",
        "\n",
        "# Load and split data\n",
        "iris = load_iris()\n",
        "X_train, X_test, y_train, y_test = train_test_split(iris.data, iris.target, test_size=0.3, random_state=42)\n",
        "\n",
        "# Default tree\n",
        "default_tree = DecisionTreeClassifier(random_state=42)\n",
        "default_tree.fit(X_train, y_train)\n",
        "acc_default = accuracy_score(y_test, default_tree.predict(X_test))\n",
        "\n",
        "# Tree with min_samples_split=5\n",
        "split_tree = DecisionTreeClassifier(min_samples_split=5, random_state=42)\n",
        "split_tree.fit(X_train, y_train)\n",
        "acc_split = accuracy_score(y_test, split_tree.predict(X_test))\n",
        "\n",
        "# Print results\n",
        "print(\"Accuracy (Default):\", acc_default)\n",
        "print(\"Accuracy (min_samples_split=5):\", acc_split)"
      ],
      "metadata": {
        "colab": {
          "base_uri": "https://localhost:8080/"
        },
        "id": "JF0ptkB0EzFr",
        "outputId": "c6d5bbd6-d89a-4eb0-e5e4-c7e00d49af5a"
      },
      "execution_count": 9,
      "outputs": [
        {
          "output_type": "stream",
          "name": "stdout",
          "text": [
            "Accuracy (Default): 1.0\n",
            "Accuracy (min_samples_split=5): 1.0\n"
          ]
        }
      ]
    },
    {
      "cell_type": "code",
      "source": [],
      "metadata": {
        "id": "XEbhCTLWE3Sr"
      },
      "execution_count": null,
      "outputs": []
    },
    {
      "cell_type": "markdown",
      "source": [
        "24:- Write a Python program to train a Decision Tree Classifier using One-vs-Rest (OvR) strategy for multiclassclassification."
      ],
      "metadata": {
        "id": "SnU92iMDFOdj"
      }
    },
    {
      "cell_type": "code",
      "source": [
        "from sklearn.datasets import load_iris\n",
        "from sklearn.model_selection import train_test_split\n",
        "from sklearn.tree import DecisionTreeClassifier\n",
        "from sklearn.multiclass import OneVsRestClassifier\n",
        "from sklearn.metrics import accuracy_score\n",
        "\n",
        "# Load data\n",
        "iris = load_iris()\n",
        "X, y = iris.data, iris.target\n",
        "\n",
        "# Train-test split\n",
        "X_train, X_test, y_train, y_test = train_test_split(X, y, test_size=0.3, random_state=42)\n",
        "\n",
        "# OvR with Decision Tree\n",
        "ovr_clf = OneVsRestClassifier(DecisionTreeClassifier(random_state=42))\n",
        "ovr_clf.fit(X_train, y_train)\n",
        "\n",
        "# Evaluate\n",
        "y_pred = ovr_clf.predict(X_test)\n",
        "print(\"OvR Decision Tree Accuracy:\", accuracy_score(y_test, y_pred))"
      ],
      "metadata": {
        "colab": {
          "base_uri": "https://localhost:8080/"
        },
        "id": "X6t3YR72FUiU",
        "outputId": "924e41b4-118c-49e2-9e72-ef4c1fbf4b3b"
      },
      "execution_count": 10,
      "outputs": [
        {
          "output_type": "stream",
          "name": "stdout",
          "text": [
            "OvR Decision Tree Accuracy: 1.0\n"
          ]
        }
      ]
    },
    {
      "cell_type": "code",
      "source": [],
      "metadata": {
        "id": "S9OkgmbEFblP"
      },
      "execution_count": null,
      "outputs": []
    },
    {
      "cell_type": "markdown",
      "source": [
        "25:-Write a Python program to train a Decision Tree Classifier and display the feature importance scores."
      ],
      "metadata": {
        "id": "0qLUamllFc0q"
      }
    },
    {
      "cell_type": "code",
      "source": [
        "from sklearn.datasets import load_iris\n",
        "from sklearn.tree import DecisionTreeClassifier\n",
        "\n",
        "# Load data\n",
        "iris = load_iris()\n",
        "X, y = iris.data, iris.target\n",
        "\n",
        "# Train classifier\n",
        "clf = DecisionTreeClassifier(random_state=42)\n",
        "clf.fit(X, y)\n",
        "\n",
        "# Feature importance\n",
        "print(\"Feature Importances:\")\n",
        "for name, score in zip(iris.feature_names, clf.feature_importances_):\n",
        "    print(f\"{name}: {score:.4f}\")"
      ],
      "metadata": {
        "colab": {
          "base_uri": "https://localhost:8080/"
        },
        "id": "tkfe2_eOFjzz",
        "outputId": "a917d21a-4d5f-4b66-b6fc-9a987fd8a181"
      },
      "execution_count": 11,
      "outputs": [
        {
          "output_type": "stream",
          "name": "stdout",
          "text": [
            "Feature Importances:\n",
            "sepal length (cm): 0.0133\n",
            "sepal width (cm): 0.0000\n",
            "petal length (cm): 0.5641\n",
            "petal width (cm): 0.4226\n"
          ]
        }
      ]
    },
    {
      "cell_type": "code",
      "source": [],
      "metadata": {
        "id": "E_ZWCqMuFoH7"
      },
      "execution_count": null,
      "outputs": []
    },
    {
      "cell_type": "markdown",
      "source": [
        "26:- Write a Python program to train a Decision Tree Regressor with max_depth=5 and compare its performancewith an unrestricted tree."
      ],
      "metadata": {
        "id": "FKlIexf9Fsf4"
      }
    },
    {
      "cell_type": "code",
      "source": [
        "from sklearn.datasets import fetch_california_housing\n",
        "from sklearn.tree import DecisionTreeRegressor\n",
        "from sklearn.model_selection import train_test_split\n",
        "from sklearn.metrics import mean_squared_error\n",
        "\n",
        "# Load data\n",
        "data = fetch_california_housing()\n",
        "X, y = data.data, data.target\n",
        "\n",
        "# Split data\n",
        "X_train, X_test, y_train, y_test = train_test_split(X, y, test_size=0.3, random_state=42)\n",
        "\n",
        "# Unrestricted tree\n",
        "full_reg = DecisionTreeRegressor(random_state=42)\n",
        "full_reg.fit(X_train, y_train)\n",
        "mse_full = mean_squared_error(y_test, full_reg.predict(X_test))\n",
        "\n",
        "# Depth-limited tree\n",
        "limited_reg = DecisionTreeRegressor(max_depth=5, random_state=42)\n",
        "limited_reg.fit(X_train, y_train)\n",
        "mse_limited = mean_squared_error(y_test, limited_reg.predict(X_test))\n",
        "\n",
        "# Results\n",
        "print(\"MSE (Full Tree):\", mse_full)\n",
        "print(\"MSE (Max Depth=5):\", mse_limited)"
      ],
      "metadata": {
        "colab": {
          "base_uri": "https://localhost:8080/"
        },
        "id": "77YIkYvSFxpg",
        "outputId": "4accb7fe-8103-4c8e-d3a1-5c554b25ca17"
      },
      "execution_count": 12,
      "outputs": [
        {
          "output_type": "stream",
          "name": "stdout",
          "text": [
            "MSE (Full Tree): 0.5280096503174904\n",
            "MSE (Max Depth=5): 0.5210801561811793\n"
          ]
        }
      ]
    },
    {
      "cell_type": "markdown",
      "source": [
        "27:- Write a Python program to train a Decision Tree Classifier, apply Cost Complexity Pruning (CCP), andvisualize its effect on accuracy."
      ],
      "metadata": {
        "id": "JDSTXYkXGS2G"
      }
    },
    {
      "cell_type": "code",
      "source": [
        "import matplotlib.pyplot as plt\n",
        "from sklearn.datasets import load_iris\n",
        "from sklearn.tree import DecisionTreeClassifier\n",
        "from sklearn.model_selection import train_test_split\n",
        "from sklearn.metrics import accuracy_score\n",
        "\n",
        "# Load and split data\n",
        "iris = load_iris()\n",
        "X_train, X_test, y_train, y_test = train_test_split(\n",
        "    iris.data, iris.target, test_size=0.3, random_state=42\n",
        ")\n",
        "\n",
        "# Train initial model to get effective alphas\n",
        "clf = DecisionTreeClassifier(random_state=42)\n",
        "path = clf.cost_complexity_pruning_path(X_train, y_train)\n",
        "ccp_alphas = path.ccp_alphas\n",
        "\n",
        "# Train trees for each alpha\n",
        "clfs = []\n",
        "for alpha in ccp_alphas:\n",
        "    model = DecisionTreeClassifier(random_state=42, ccp_alpha=alpha)\n",
        "    model.fit(X_train, y_train)\n",
        "    clfs.append(model)\n",
        "\n",
        "# Accuracy scores\n",
        "train_acc = [accuracy_score(y_train, clf.predict(X_train)) for clf in clfs]\n",
        "test_acc = [accuracy_score(y_test, clf.predict(X_test)) for clf in clfs]\n",
        "\n",
        "# Plot\n",
        "plt.figure(figsize=(8, 5))\n",
        "plt.plot(ccp_alphas, train_acc, marker='o', label='Train Accuracy')\n",
        "plt.plot(ccp_alphas, test_acc, marker='x', label='Test Accuracy')\n",
        "plt.xlabel('ccp_alpha')\n",
        "plt.ylabel('Accuracy')\n",
        "plt.title('Effect of CCP on Accuracy')\n",
        "plt.legend()\n",
        "plt.grid(True)\n",
        "plt.show()\n"
      ],
      "metadata": {
        "colab": {
          "base_uri": "https://localhost:8080/",
          "height": 487
        },
        "id": "V89_f8KKGZ3u",
        "outputId": "940c5ca6-4159-4570-84c3-fe8d1c2e68d1"
      },
      "execution_count": 13,
      "outputs": [
        {
          "output_type": "display_data",
          "data": {
            "text/plain": [
              "<Figure size 800x500 with 1 Axes>"
            ],
            "image/png": "[encoded data removed]"
          },
          "metadata": {}
        }
      ]
    },
    {
      "cell_type": "code",
      "source": [],
      "metadata": {
        "id": "PvFZUQZPGhVo"
      },
      "execution_count": null,
      "outputs": []
    },
    {
      "cell_type": "markdown",
      "source": [
        "28:-Write a Python program to train a Decision Tree Classifier and evaluate its performance using Precision,Recall, and F1-Score."
      ],
      "metadata": {
        "id": "3qUXUszaGmSf"
      }
    },
    {
      "cell_type": "code",
      "source": [
        "from sklearn.datasets import load_iris\n",
        "from sklearn.model_selection import train_test_split\n",
        "from sklearn.tree import DecisionTreeClassifier\n",
        "from sklearn.metrics import classification_report\n",
        "\n",
        "# Load dataset\n",
        "iris = load_iris()\n",
        "X, y = iris.data, iris.target\n",
        "\n",
        "# Train-test split\n",
        "X_train, X_test, y_train, y_test = train_test_split(\n",
        "    X, y, test_size=0.3, random_state=42\n",
        ")\n",
        "\n",
        "# Train Decision Tree Classifier\n",
        "clf = DecisionTreeClassifier(random_state=42)\n",
        "clf.fit(X_train, y_train)\n",
        "\n",
        "# Predict on test set\n",
        "y_pred = clf.predict(X_test)\n",
        "\n",
        "# Evaluate using Precision, Recall, F1-Score\n",
        "print(\"Classification Report:\")\n",
        "print(classification_report(y_test, y_pred, target_names=iris.target_names))"
      ],
      "metadata": {
        "colab": {
          "base_uri": "https://localhost:8080/"
        },
        "id": "2LxtYYnBGyq5",
        "outputId": "70251fa0-b946-4ca3-b741-56db62333573"
      },
      "execution_count": 14,
      "outputs": [
        {
          "output_type": "stream",
          "name": "stdout",
          "text": [
            "Classification Report:\n",
            "              precision    recall  f1-score   support\n",
            "\n",
            "      setosa       1.00      1.00      1.00        19\n",
            "  versicolor       1.00      1.00      1.00        13\n",
            "   virginica       1.00      1.00      1.00        13\n",
            "\n",
            "    accuracy                           1.00        45\n",
            "   macro avg       1.00      1.00      1.00        45\n",
            "weighted avg       1.00      1.00      1.00        45\n",
            "\n"
          ]
        }
      ]
    },
    {
      "cell_type": "code",
      "source": [],
      "metadata": {
        "id": "AlITLm8LGzyh"
      },
      "execution_count": null,
      "outputs": []
    }
  ]
}